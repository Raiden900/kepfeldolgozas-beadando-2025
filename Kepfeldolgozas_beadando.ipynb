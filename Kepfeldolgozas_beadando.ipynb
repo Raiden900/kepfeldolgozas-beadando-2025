{
  "nbformat": 4,
  "nbformat_minor": 0,
  "metadata": {
    "colab": {
      "provenance": [],
      "authorship_tag": "ABX9TyPjnGRngUzWbYk3Ymr5NbTL",
      "include_colab_link": true
    },
    "kernelspec": {
      "name": "python3",
      "display_name": "Python 3"
    },
    "language_info": {
      "name": "python"
    }
  },
  "cells": [
    {
      "cell_type": "markdown",
      "metadata": {
        "id": "view-in-github",
        "colab_type": "text"
      },
      "source": [
        "<a href=\"https://colab.research.google.com/github/Raiden900/kepfeldolgozas-beadando-2025/blob/main/Kepfeldolgozas_beadando.ipynb\" target=\"_parent\"><img src=\"https://colab.research.google.com/assets/colab-badge.svg\" alt=\"Open In Colab\"/></a>"
      ]
    },
    {
      "cell_type": "code",
      "execution_count": 1,
      "metadata": {
        "colab": {
          "base_uri": "https://localhost:8080/"
        },
        "id": "tMRrKIMRk-ck",
        "outputId": "f90232fc-c742-4009-fb99-2c8077cd0684"
      },
      "outputs": [
        {
          "output_type": "stream",
          "name": "stdout",
          "text": [
            "szia\n"
          ]
        }
      ],
      "source": [
        "print(\"szia\")"
      ]
    },
    {
      "cell_type": "code",
      "source": [
        "!pip install -q opencv-python-headless easyocr pytesseract matplotlib numpy\n",
        "# Ha kell a Tesseract bináris:\n",
        "# !apt-get update && apt-get install -y tesseract-ocr tesseract-ocr-eng"
      ],
      "metadata": {
        "id": "71SSwIW7lFhY"
      },
      "execution_count": 3,
      "outputs": []
    },
    {
      "cell_type": "code",
      "source": [
        "import cv2 as cv\n",
        "import numpy as np\n",
        "import matplotlib.pyplot as plt\n",
        "import pytesseract, easyocr\n",
        "from google.colab import files\n",
        "\n",
        "def show(img, title=None, size=(6,6)):\n",
        "    plt.figure(figsize=size)\n",
        "    if img.ndim==2: plt.imshow(img, cmap='gray')\n",
        "    else: plt.imshow(cv.cvtColor(img, cv.COLOR_BGR2RGB))\n",
        "    if title: plt.title(title)\n",
        "    plt.axis('off'); plt.show()"
      ],
      "metadata": {
        "id": "thsqBClOEpYt"
      },
      "execution_count": null,
      "outputs": []
    },
    {
      "cell_type": "code",
      "source": [
        "uploaded = files.upload()   # válaszd ki a fotót (pl. fanola.jpg)\n",
        "fname = list(uploaded.keys())[0]\n",
        "img = cv.imdecode(np.frombuffer(uploaded[fname], np.uint8), cv.IMREAD_COLOR)\n",
        "show(img, \"Eredeti fotó\", (7,7))"
      ],
      "metadata": {
        "id": "6JAJb65tEs4q"
      },
      "execution_count": null,
      "outputs": []
    },
    {
      "cell_type": "code",
      "source": [
        "def largest_quad_contour(binary):\n",
        "    cnts,_ = cv.findContours(binary, cv.RETR_EXTERNAL, cv.CHAIN_APPROX_SIMPLE)\n",
        "    best=None; area=0\n",
        "    for c in cnts:\n",
        "        peri=cv.arcLength(c,True)\n",
        "        approx=cv.approxPolyDP(c,0.02*peri,True)\n",
        "        if len(approx)==4:\n",
        "            a=cv.contourArea(approx)\n",
        "            if a>area: best=approx; area=a\n",
        "    return best\n",
        "\n",
        "def order_pts(pts):\n",
        "    pts=pts.reshape(4,2).astype(np.float32)\n",
        "    s=pts.sum(1); d=np.diff(pts, axis=1).ravel()\n",
        "    tl=pts[np.argmin(s)]; br=pts[np.argmax(s)]\n",
        "    tr=pts[np.argmin(d)]; bl=pts[np.argmax(d)]\n",
        "    return np.array([tl,tr,br,bl], np.float32)\n",
        "\n",
        "def warp_document(image_bgr, target_width=1200):\n",
        "    ratio = target_width / image_bgr.shape[1]\n",
        "    img = cv.resize(image_bgr, (target_width, int(image_bgr.shape[0]*ratio)))\n",
        "    gray=cv.cvtColor(img, cv.COLOR_BGR2GRAY)\n",
        "    gray=cv.GaussianBlur(gray,(5,5),0)\n",
        "    edges=cv.Canny(gray,60,180)\n",
        "    edges=cv.dilate(edges,np.ones((3,3),np.uint8),1)\n",
        "    quad=largest_quad_contour(edges)\n",
        "    if quad is None: return img, False\n",
        "    pts=order_pts(quad)\n",
        "    w=int(max(np.linalg.norm(pts[1]-pts[0]), np.linalg.norm(pts[2]-pts[3])))\n",
        "    h=int(max(np.linalg.norm(pts[3]-pts[0]), np.linalg.norm(pts[2]-pts[1])))\n",
        "    M=cv.getPerspectiveTransform(pts, np.array([[0,0],[w-1,0],[w-1,h-1],[0,h-1]], np.float32))\n",
        "    warped=cv.warpPerspective(img, M, (w,h))\n",
        "    return warped, True\n",
        "\n",
        "raw, ok = warp_document(img)\n",
        "show(raw, \"RAW (kivágva + kiegyenesítve)\")"
      ],
      "metadata": {
        "id": "tJQD8QppExHF"
      },
      "execution_count": null,
      "outputs": []
    },
    {
      "cell_type": "code",
      "source": [
        "def enhance_for_ocr(bgr):\n",
        "    gray=cv.cvtColor(bgr, cv.COLOR_BGR2GRAY)\n",
        "    gray=cv.medianBlur(gray,3)\n",
        "    clahe=cv.createCLAHE(clipLimit=2.0, tileGridSize=(8,8))\n",
        "    gray=clahe.apply(gray)\n",
        "    binimg=cv.adaptiveThreshold(gray,255,cv.ADAPTIVE_THRESH_GAUSSIAN_C,\n",
        "                                cv.THRESH_BINARY, 35, 10)\n",
        "    return gray, binimg\n",
        "\n",
        "gray, binimg = enhance_for_ocr(raw)\n",
        "show(gray, \"PROC – kontraszt (szürke)\")\n",
        "show(binimg, \"PROC – binarizált\")"
      ],
      "metadata": {
        "id": "wChoF49JEyHX"
      },
      "execution_count": null,
      "outputs": []
    },
    {
      "cell_type": "code",
      "source": [
        "reader = easyocr.Reader(['en'], gpu=False)\n",
        "\n",
        "def ocr_easy(img_gray):\n",
        "    res = reader.readtext(img_gray, detail=0, paragraph=True)\n",
        "    return \"\\n\".join(res)\n",
        "\n",
        "def ocr_tess(img_gray):\n",
        "    cfg = \"--psm 6 -l eng\"\n",
        "    return pytesseract.image_to_string(img_gray, config=cfg)\n",
        "\n",
        "txt_raw_ez  = ocr_easy(cv.cvtColor(raw, cv.COLOR_BGR2GRAY))\n",
        "txt_proc_ez = ocr_easy(binimg)\n",
        "txt_raw_te  = ocr_tess(cv.cvtColor(raw, cv.COLOR_BGR2GRAY))\n",
        "txt_proc_te = ocr_tess(binimg)\n",
        "\n",
        "print(\"=== EasyOCR RAW ===\\n\", txt_raw_ez)\n",
        "print(\"\\n=== EasyOCR PROC ===\\n\", txt_proc_ez)\n",
        "print(\"\\n=== Tesseract RAW ===\\n\", txt_raw_te)\n",
        "print(\"\\n=== Tesseract PROC ===\\n\", txt_proc_te)"
      ],
      "metadata": {
        "id": "EOH2qDSmE0iL"
      },
      "execution_count": null,
      "outputs": []
    },
    {
      "cell_type": "code",
      "source": [
        "import difflib\n",
        "expected = \"FANOLA NO YELLOW SAMPON 350 ML 4 DB\"\n",
        "def sim(a,b): return difflib.SequenceMatcher(None,a.upper().strip(),b.upper().strip()).ratio()\n",
        "for name, txt in [(\"Easy RAW\",txt_raw_ez),(\"Easy PROC\",txt_proc_ez),\n",
        "                  (\"Tess RAW\",txt_raw_te),(\"Tess PROC\",txt_proc_te)]:\n",
        "    print(f\"{name:10s} -> match={sim(expected, txt):.2f}\")"
      ],
      "metadata": {
        "id": "ogSQNeZuE4M0"
      },
      "execution_count": null,
      "outputs": []
    },
    {
      "cell_type": "code",
      "source": [
        "import os, json\n",
        "os.makedirs(\"/content/outputs\", exist_ok=True)\n",
        "cv.imwrite(\"/content/outputs/raw.jpg\", raw)\n",
        "cv.imwrite(\"/content/outputs/proc_bin.png\", binimg)\n",
        "with open(\"/content/outputs/ocr.json\",\"w\",encoding=\"utf-8\") as f:\n",
        "    json.dump({\"easy_raw\":txt_raw_ez,\"easy_proc\":txt_proc_ez,\n",
        "               \"tess_raw\":txt_raw_te,\"tess_proc\":txt_proc_te}, f, ensure_ascii=False, indent=2)\n",
        "print(\"Mentve: /content/outputs\")"
      ],
      "metadata": {
        "id": "CYVJn11pE6m-"
      },
      "execution_count": null,
      "outputs": []
    }
  ]
}